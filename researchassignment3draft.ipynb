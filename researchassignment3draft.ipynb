{
 "cells": [
  {
   "cell_type": "markdown",
   "metadata": {},
   "source": [
    "# Research assignment 3\n",
    "\n",
    "[your name]\n",
    "\n",
    "[working title of the project] \n",
    "\n",
    "[date]"
   ]
  },
  {
   "cell_type": "markdown",
   "metadata": {},
   "source": [
    "# 1. Build your hypothesis\n",
    "\n",
    "1. What is your depedent variable? For this assignment, your depedent should be a continuous variable. Describe how your depedent variable is measured. If your data doesn't allow this, you can use either the General Social Survey 2018 or the Grant and Loan Repayment data. \n",
    "\n",
    "2. What are your indepedent varaibles? You should include at least two categorial and continuous variables, respectively. Describe how your indepedent variables are measured. \n",
    "\n",
    "3. What are your expectation or hyphothesis on the relationships between your dependent and independent variables? And why do you hyphothesize the relationships?"
   ]
  },
  {
   "cell_type": "markdown",
   "metadata": {},
   "source": [
    "# 2. Prepare your data\n",
    "\n",
    "Do the following in seperate cells:"
   ]
  },
  {
   "cell_type": "markdown",
   "metadata": {},
   "source": [
    "Set current directory"
   ]
  },
  {
   "cell_type": "markdown",
   "metadata": {},
   "source": [
    "Set more off"
   ]
  },
  {
   "cell_type": "markdown",
   "metadata": {},
   "source": [
    "Creat log fine"
   ]
  },
  {
   "cell_type": "markdown",
   "metadata": {},
   "source": [
    "Load the data"
   ]
  },
  {
   "cell_type": "markdown",
   "metadata": {},
   "source": [
    "Keep only relevant variables you want to examine in"
   ]
  },
  {
   "cell_type": "markdown",
   "metadata": {},
   "source": [
    "Use -describe- and -codebook- to see details of the varaibles"
   ]
  },
  {
   "cell_type": "markdown",
   "metadata": {},
   "source": [
    "# 3. Navigate your data\n",
    "\n",
    "1. Using appropriate styles, graph the relationships between the dependent variable and each independent variable. \n",
    "\n",
    "2. Run correlation analysis among continuous variables. Interpret the result.\n",
    "\n",
    "3. Run t-test and/or ANOVA to see the differences in your DV by your IVs. Interpret the result."
   ]
  },
  {
   "cell_type": "markdown",
   "metadata": {},
   "source": [
    "# 4. Run your regression model"
   ]
  },
  {
   "cell_type": "markdown",
   "metadata": {},
   "source": [
    "1. For your continuous independent variables, what are the coefficients for the variables? Are they statistically significant? If so, interpret the coefficients.\n",
    "\n",
    "2. For your categorical independent variables, what are omitted categories? what are the coefficients for the variables? Are they statistically significant? If so, interpret the coefficients.\n",
    "\n",
    "3. What is the coefficient for the constant? Interpret the coefficient.\n",
    "\n",
    "4. Using estimated coefficients, write your regression equation in terms of the variables you used. Compare the estimated strengths between variables."
   ]
  },
  {
   "cell_type": "markdown",
   "metadata": {},
   "source": [
    "# 5. Estimate marginal effects\n",
    "\n",
    "1. For comparison, set two distinctive profiles based on your independent variables (i.e. white men with 16 years of education versus latina with 6 years of education, if you include race, gender, and education as your IVs).\n",
    "\n",
    "2. Using -margins- and -marginsplot- commnads, estimate and graph the marginal effects. For here, regard other covariates are constant at their means.  "
   ]
  },
  {
   "cell_type": "markdown",
   "metadata": {},
   "source": [
    "# 6. Report your regression results\n",
    "Use -estout- command, make a regression table as journal article style. Your table should include information for the coeffcients and their significance, R-square, and the number of observation."
   ]
  },
  {
   "cell_type": "code",
   "execution_count": null,
   "metadata": {},
   "outputs": [],
   "source": []
  }
 ],
 "metadata": {
  "kernelspec": {
   "display_name": "Stata",
   "language": "stata",
   "name": "stata"
  },
  "language_info": {
   "codemirror_mode": "stata",
   "file_extension": ".do",
   "mimetype": "text/x-stata",
   "name": "stata",
   "version": "15.1"
  }
 },
 "nbformat": 4,
 "nbformat_minor": 4
}
