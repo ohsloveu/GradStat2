{
 "cells": [
  {
   "cell_type": "markdown",
   "metadata": {},
   "source": [
    "# Week 13. Scale Construction"
   ]
  },
  {
   "cell_type": "markdown",
   "metadata": {},
   "source": [
    "## As sociologists, we are often struggling with how to measure \"concepts.\" "
   ]
  },
  {
   "cell_type": "markdown",
   "metadata": {},
   "source": [
    "#### For instance, how would you measure \"success\"? What are the components of your \"success\"?"
   ]
  },
  {
   "cell_type": "markdown",
   "metadata": {},
   "source": [
    "(Your answer here)"
   ]
  },
  {
   "cell_type": "markdown",
   "metadata": {},
   "source": [
    "## In your research, the process of operationalization should be valid and reliable. "
   ]
  },
  {
   "cell_type": "markdown",
   "metadata": {},
   "source": [
    "## 1. Validity - whether your measurement is a reasonable measure of the concept."
   ]
  },
  {
   "cell_type": "markdown",
   "metadata": {},
   "source": [
    "This is a theoretical issue. So, we have to review prior studies as many as possible. "
   ]
  },
  {
   "cell_type": "markdown",
   "metadata": {},
   "source": [
    "## 2. Reliability - whether indicators of the concept measure the same thing "
   ]
  },
  {
   "cell_type": "markdown",
   "metadata": {},
   "source": [
    "### * We often group similar questions on one issue because multiple-item scales are reliable. "
   ]
  },
  {
   "cell_type": "markdown",
   "metadata": {},
   "source": [
    "### * Chronbach's alpha is an estimate of internal consistency across mulitple items\n",
    "#### It lies between 0 and 1, and higher numbers indicate higher correlation between the items (higher reliability)."
   ]
  },
  {
   "cell_type": "markdown",
   "metadata": {},
   "source": [
    "### * If appropriate, we can construct a scale by combining mulitple variation into conceptual measures. Factor analysis ecnompasses the identification and testing of the \"underlying construct.\""
   ]
  },
  {
   "cell_type": "markdown",
   "metadata": {},
   "source": [
    "# For today, using data from the GSS 2018, we will practice fundamentals of scale construction."
   ]
  },
  {
   "cell_type": "code",
   "execution_count": 1,
   "metadata": {},
   "outputs": [],
   "source": [
    "quietly {\n",
    "  set more off\n",
    "  cd \"C:\\Users\\Hyunsu\\Desktop\\UCM\\10. Spring 2020\\(SOC 211) Graduate Statistics 2 (TA)\\Week 13\"\n",
    "  use age sex race educ comfort makefrnd religcon religint using \"GSS2018w13.dta\", clear\n",
    "  order age sex race educ comfort makefrnd religcon religint\n",
    "}"
   ]
  },
  {
   "cell_type": "markdown",
   "metadata": {},
   "source": [
    "### The items we see are four: 1) comfort, 2) makefrnd, 3) religcon, and 4) religint. Each of them asks reposndents' general attitude toward religion."
   ]
  },
  {
   "cell_type": "code",
   "execution_count": 2,
   "metadata": {},
   "outputs": [
    {
     "name": "stdout",
     "output_type": "stream",
     "text": [
      "\n",
      "--------------------------------------------------------------------------------\n",
      "comfort     religion helps people to gain comfort in times of trouble and sorrow\n",
      "--------------------------------------------------------------------------------\n",
      "\n",
      "                  type:  numeric (byte)\n",
      "                 label:  COMFORT\n",
      "\n",
      "                 range:  [1,5]                        units:  1\n",
      "         unique values:  5                        missing .:  0/2348\n",
      "       unique mv codes:  3                       missing .*:  1186/2348\n",
      "\n",
      "            tabulation:  Freq.   Numeric  Label\n",
      "                           484         1  strongly agree\n",
      "                           602         2  agree\n",
      "                            55         3  neither agree nor disagree\n",
      "                            17         4  disagree\n",
      "                             4         5  strongly disagree\n",
      "                             2        .d  DONT KNOW\n",
      "                          1173        .i  IAP\n",
      "                            11        .n  NA\n",
      "\n",
      "--------------------------------------------------------------------------------\n",
      "makefrnd                                   religion helps people to make friends\n",
      "--------------------------------------------------------------------------------\n",
      "\n",
      "                  type:  numeric (byte)\n",
      "                 label:  MAKEFRND\n",
      "\n",
      "                 range:  [1,5]                        units:  1\n",
      "         unique values:  5                        missing .:  0/2348\n",
      "       unique mv codes:  3                       missing .*:  1191/2348\n",
      "\n",
      "            tabulation:  Freq.   Numeric  Label\n",
      "                           228         1  strongly agree\n",
      "                           625         2  agree\n",
      "                           191         3  neither agree nor disagree\n",
      "                            96         4  disagree\n",
      "                            17         5  strongly disagree\n",
      "                             6        .d  DONT KNOW\n",
      "                          1173        .i  IAP\n",
      "                            12        .n  NA\n",
      "\n",
      "--------------------------------------------------------------------------------\n",
      "religcon                                          religions bring more conflict \n",
      "--------------------------------------------------------------------------------\n",
      "\n",
      "                  type:  numeric (byte)\n",
      "                 label:  LABCV\n",
      "\n",
      "                 range:  [1,5]                        units:  1\n",
      "         unique values:  5                        missing .:  0/2348\n",
      "       unique mv codes:  3                       missing .*:  1204/2348\n",
      "\n",
      "            tabulation:  Freq.   Numeric  Label\n",
      "                           185         1  strongly agree\n",
      "                           416         2  agree\n",
      "                           257         3  not agree/dsagre\n",
      "                           235         4  disagree\n",
      "                            51         5  strong disagree\n",
      "                            20        .c  CANT CHOOSE\n",
      "                          1173        .i  IAP\n",
      "                            11        .n  NA\n",
      "\n",
      "--------------------------------------------------------------------------------\n",
      "religint                              religious people are often too intolerant \n",
      "--------------------------------------------------------------------------------\n",
      "\n",
      "                  type:  numeric (byte)\n",
      "                 label:  LABCV\n",
      "\n",
      "                 range:  [1,5]                        units:  1\n",
      "         unique values:  5                        missing .:  0/2348\n",
      "       unique mv codes:  3                       missing .*:  1191/2348\n",
      "\n",
      "            tabulation:  Freq.   Numeric  Label\n",
      "                           179         1  strongly agree\n",
      "                           524         2  agree\n",
      "                           239         3  not agree/dsagre\n",
      "                           181         4  disagree\n",
      "                            34         5  strong disagree\n",
      "                            10        .c  CANT CHOOSE\n",
      "                          1173        .i  IAP\n",
      "                             8        .n  NA\n"
     ]
    }
   ],
   "source": [
    "codebook comfort makefrnd religcon religint"
   ]
  },
  {
   "cell_type": "markdown",
   "metadata": {},
   "source": [
    "#### We can see the meaning of each variable. Both religcon2 and religint2 indicate a negative attitude toward religion while comfort2 and makefrnd2 focus on the positive function of religion. "
   ]
  },
  {
   "cell_type": "markdown",
   "metadata": {},
   "source": [
    "### Before running factor analysis, make sure all items have same direction. For here, we will recode these items, so higher numbers represent more agreeable attitudes."
   ]
  },
  {
   "cell_type": "code",
   "execution_count": 3,
   "metadata": {},
   "outputs": [
    {
     "name": "stdout",
     "output_type": "stream",
     "text": [
      "\n",
      "(1107 differences between comfort and comfort2)\n",
      "\n",
      "religion helps people |\n",
      "   to gain comfort in | RECODE of comfort (religion helps people to\n",
      " times of trouble and |    gain comfort in times of trouble and\n",
      "               sorrow |         1          2          3          4 |     Total\n",
      "----------------------+--------------------------------------------+----------\n",
      "       strongly agree |         0          0          0          0 |       484 \n",
      "                agree |         0          0          0        602 |       602 \n",
      "neither agree nor dis |         0          0         55          0 |        55 \n",
      "             disagree |         0         17          0          0 |        17 \n",
      "    strongly disagree |         4          0          0          0 |         4 \n",
      "----------------------+--------------------------------------------+----------\n",
      "                Total |         4         17         55        602 |     1,162 \n",
      "\n",
      "\n",
      "                      | RECODE of\n",
      "                      |  comfort\n",
      "                      | (religion\n",
      "                      |   helps\n",
      "                      | people to\n",
      "                      |    gain\n",
      "                      | comfort in\n",
      "religion helps people |  times of\n",
      "   to gain comfort in |  trouble\n",
      " times of trouble and |    and\n",
      "               sorrow |         5 |     Total\n",
      "----------------------+-----------+----------\n",
      "       strongly agree |       484 |       484 \n",
      "                agree |         0 |       602 \n",
      "neither agree nor dis |         0 |        55 \n",
      "             disagree |         0 |        17 \n",
      "    strongly disagree |         0 |         4 \n",
      "----------------------+-----------+----------\n",
      "                Total |       484 |     1,162 \n",
      "\n",
      "(966 differences between makefrnd and makefrnd2)\n",
      "\n",
      "                      |  RECODE of makefrnd (religion helps people\n",
      "religion helps people |              to make friends)\n",
      "      to make friends |         1          2          3          4 |     Total\n",
      "----------------------+--------------------------------------------+----------\n",
      "       strongly agree |         0          0          0          0 |       228 \n",
      "                agree |         0          0          0        625 |       625 \n",
      "neither agree nor dis |         0          0        191          0 |       191 \n",
      "             disagree |         0         96          0          0 |        96 \n",
      "    strongly disagree |        17          0          0          0 |        17 \n",
      "----------------------+--------------------------------------------+----------\n",
      "                Total |        17         96        191        625 |     1,157 \n",
      "\n",
      "\n",
      "                      | RECODE of\n",
      "                      |  makefrnd\n",
      "                      | (religion\n",
      "                      |   helps\n",
      "                      | people to\n",
      "                      |    make\n",
      "religion helps people |  friends)\n",
      "      to make friends |         5 |     Total\n",
      "----------------------+-----------+----------\n",
      "       strongly agree |       228 |       228 \n",
      "                agree |         0 |       625 \n",
      "neither agree nor dis |         0 |       191 \n",
      "             disagree |         0 |        96 \n",
      "    strongly disagree |         0 |        17 \n",
      "----------------------+-----------+----------\n",
      "                Total |       228 |     1,157 \n",
      "\n",
      "(887 differences between religcon and religcon2)\n",
      "\n",
      "                 |  RECODE of religcon (religions bring more\n",
      " religions bring |                 conflict )\n",
      "  more conflict  |         1          2          3          4 |     Total\n",
      "-----------------+--------------------------------------------+----------\n",
      "  strongly agree |         0          0          0          0 |       185 \n",
      "           agree |         0          0          0        416 |       416 \n",
      "not agree/dsagre |         0          0        257          0 |       257 \n",
      "        disagree |         0        235          0          0 |       235 \n",
      " strong disagree |        51          0          0          0 |        51 \n",
      "-----------------+--------------------------------------------+----------\n",
      "           Total |        51        235        257        416 |     1,144 \n",
      "\n",
      "\n",
      "                 | RECODE of\n",
      "                 |  religcon\n",
      "                 | (religions\n",
      "                 | bring more\n",
      " religions bring | conflict )\n",
      "  more conflict  |         5 |     Total\n",
      "-----------------+-----------+----------\n",
      "  strongly agree |       185 |       185 \n",
      "           agree |         0 |       416 \n",
      "not agree/dsagre |         0 |       257 \n",
      "        disagree |         0 |       235 \n",
      " strong disagree |         0 |        51 \n",
      "-----------------+-----------+----------\n",
      "           Total |       185 |     1,144 \n",
      "\n",
      "(918 differences between religint and religint2)\n",
      "\n",
      "religious people |  RECODE of religint (religious people are\n",
      "   are often too |           often too intolerant )\n",
      "     intolerant  |         1          2          3          4 |     Total\n",
      "-----------------+--------------------------------------------+----------\n",
      "  strongly agree |         0          0          0          0 |       179 \n",
      "           agree |         0          0          0        524 |       524 \n",
      "not agree/dsagre |         0          0        239          0 |       239 \n",
      "        disagree |         0        181          0          0 |       181 \n",
      " strong disagree |        34          0          0          0 |        34 \n",
      "-----------------+--------------------------------------------+----------\n",
      "           Total |        34        181        239        524 |     1,157 \n",
      "\n",
      "\n",
      "                 | RECODE of\n",
      "                 |  religint\n",
      "                 | (religious\n",
      "                 | people are\n",
      "                 | often too\n",
      "religious people | intolerant\n",
      "   are often too |     )\n",
      "     intolerant  |         5 |     Total\n",
      "-----------------+-----------+----------\n",
      "  strongly agree |       179 |       179 \n",
      "           agree |         0 |       524 \n",
      "not agree/dsagre |         0 |       239 \n",
      "        disagree |         0 |       181 \n",
      " strong disagree |         0 |        34 \n",
      "-----------------+-----------+----------\n",
      "           Total |       179 |     1,157 \n",
      "\n"
     ]
    }
   ],
   "source": [
    "foreach x of var comfort makefrnd religcon religint {\n",
    "    recode `x' (1=5) (2=4) (3=3) (4=2) (5=1), gen(`x'2)\n",
    "    tab `x' `x'2\n",
    "}"
   ]
  },
  {
   "cell_type": "markdown",
   "metadata": {},
   "source": [
    "### First, run correlation analysis to see relationships between variables"
   ]
  },
  {
   "cell_type": "code",
   "execution_count": 4,
   "metadata": {},
   "outputs": [
    {
     "name": "stdout",
     "output_type": "stream",
     "text": [
      "\n",
      "             | comfort2 makefr~2 religc~2 religi~2\n",
      "-------------+------------------------------------\n",
      "    comfort2 |   1.0000 \n",
      "             |\n",
      "             |\n",
      "   makefrnd2 |   0.4399   1.0000 \n",
      "             |   0.0000\n",
      "             |\n",
      "   religcon2 |  -0.1005  -0.0263   1.0000 \n",
      "             |   0.0007   0.3759\n",
      "             |\n",
      "   religint2 |  -0.0557  -0.0319   0.4860   1.0000 \n",
      "             |   0.0589   0.2806   0.0000\n",
      "             |\n"
     ]
    }
   ],
   "source": [
    "pwcorr comfort2-religint2, sig"
   ]
  },
  {
   "cell_type": "markdown",
   "metadata": {},
   "source": [
    "### It seems comfort2 and makefrnds have a strong correlation (r=.434, p < .001). Also, there is a strong linear relationship between religcon2 and religint2 (r=.486, p < .000)."
   ]
  },
  {
   "cell_type": "markdown",
   "metadata": {},
   "source": [
    "### Likewise, in many cases, correlation analsis some clues for construcing scales."
   ]
  },
  {
   "cell_type": "markdown",
   "metadata": {},
   "source": [
    "## Let's run factor analysis"
   ]
  },
  {
   "cell_type": "code",
   "execution_count": 7,
   "metadata": {},
   "outputs": [
    {
     "name": "stdout",
     "output_type": "stream",
     "text": [
      "(obs=1126)\n",
      "\n",
      "Factor analysis/correlation                        Number of obs    =     1126\n",
      "    Method: principal factors                      Retained factors =        2\n",
      "    Rotation: (unrotated)                          Number of params =        6\n",
      "\n",
      "    --------------------------------------------------------------------------\n",
      "         Factor  |   Eigenvalue   Difference        Proportion   Cumulative\n",
      "    -------------+------------------------------------------------------------\n",
      "        Factor1  |      0.80196      0.23433            0.9157       0.9157\n",
      "        Factor2  |      0.56763      0.80150            0.6481       1.5638\n",
      "        Factor3  |     -0.23386      0.02605           -0.2670       1.2968\n",
      "        Factor4  |     -0.25992            .           -0.2968       1.0000\n",
      "    --------------------------------------------------------------------------\n",
      "    LR test: independent vs. saturated:  chi2(6)  =  558.79 Prob>chi2 = 0.0000\n",
      "\n",
      "Factor loadings (pattern matrix) and unique variances\n",
      "\n",
      "    -------------------------------------------------\n",
      "        Variable |  Factor1   Factor2 |   Uniqueness \n",
      "    -------------+--------------------+--------------\n",
      "        comfort2 |  -0.3898    0.4191 |      0.6724  \n",
      "       makefrnd2 |  -0.3350    0.4540 |      0.6817  \n",
      "       religcon2 |   0.5299    0.2905 |      0.6348  \n",
      "       religint2 |   0.5069    0.3186 |      0.6415  \n",
      "    -------------------------------------------------\n"
     ]
    }
   ],
   "source": [
    "factor comfort2-religint2"
   ]
  },
  {
   "cell_type": "markdown",
   "metadata": {},
   "source": [
    "### Factor loadings suggest that there are potentially two factors. "
   ]
  },
  {
   "cell_type": "markdown",
   "metadata": {},
   "source": [
    "### Which variables are included in which factors? "
   ]
  },
  {
   "cell_type": "markdown",
   "metadata": {},
   "source": [
    "(Your answer here)"
   ]
  },
  {
   "cell_type": "markdown",
   "metadata": {},
   "source": [
    "## If we have more than two factors, to find the best fits of each factor within the multidimensional variable space, rotation is required. "
   ]
  },
  {
   "cell_type": "markdown",
   "metadata": {},
   "source": [
    "## There are two tyoes of rotation\n",
    "### 1. Orthogocal rotation: the varimax criterion\n",
    " #### * After rotation, the resulting loadings on a factor should be either large or small relative to the original loadings.\n",
    " #### * Preferred\n",
    "### 2. Oblique rotation: the promax criterion\n",
    " #### * An oblique solution allows for correlations among the actors. "
   ]
  },
  {
   "cell_type": "code",
   "execution_count": 8,
   "metadata": {},
   "outputs": [
    {
     "name": "stdout",
     "output_type": "stream",
     "text": [
      "\n",
      "\n",
      "\n",
      "Factor analysis/correlation                        Number of obs    =     1126\n",
      "    Method: principal factors                      Retained factors =        2\n",
      "    Rotation: orthogonal varimax (Kaiser off)      Number of params =        6\n",
      "\n",
      "    --------------------------------------------------------------------------\n",
      "         Factor  |     Variance   Difference        Proportion   Cumulative\n",
      "    -------------+------------------------------------------------------------\n",
      "        Factor1  |      0.72569      0.08179            0.8286       0.8286\n",
      "        Factor2  |      0.64390            .            0.7352       1.5638\n",
      "    --------------------------------------------------------------------------\n",
      "    LR test: independent vs. saturated:  chi2(6)  =  558.79 Prob>chi2 = 0.0000\n",
      "\n",
      "Rotated factor loadings (pattern matrix) and unique variances\n",
      "\n",
      "    -------------------------------------------------\n",
      "        Variable |  Factor1   Factor2 |   Uniqueness \n",
      "    -------------+--------------------+--------------\n",
      "        comfort2 |  -0.0810    0.5666 |      0.6724  \n",
      "       makefrnd2 |  -0.0161    0.5640 |      0.6817  \n",
      "       religcon2 |   0.6010   -0.0638 |      0.6348  \n",
      "       religint2 |   0.5981   -0.0275 |      0.6415  \n",
      "    -------------------------------------------------\n",
      "\n",
      "Factor rotation matrix\n",
      "\n",
      "    --------------------------------\n",
      "                 | Factor1  Factor2 \n",
      "    -------------+------------------\n",
      "         Factor1 |  0.8213  -0.5705 \n",
      "         Factor2 |  0.5705   0.8213 \n",
      "    --------------------------------\n"
     ]
    }
   ],
   "source": [
    "quietly factor comfort2-religint2\n",
    "rotate, varimax"
   ]
  },
  {
   "cell_type": "markdown",
   "metadata": {},
   "source": [
    "### Rotated factor loadings also suggest that we have two factors. The first includes \"religcon2\" and \"religint2.\" The second contains \"comfort2\" and \"makefrnd2.\""
   ]
  },
  {
   "cell_type": "markdown",
   "metadata": {},
   "source": [
    "## Based on the results, let's make two scales - \"positive\" and \"negative\" by adding variables included in each factor. \n",
    "### Sometimes, thie process requires standardization, so each item takes its standard score. "
   ]
  },
  {
   "cell_type": "code",
   "execution_count": 9,
   "metadata": {},
   "outputs": [
    {
     "name": "stdout",
     "output_type": "stream",
     "text": [
      "\n",
      "(1192 missing values generated)\n",
      "\n",
      "(1212 missing values generated)\n",
      "\n",
      "\n",
      "                          positive\n",
      "-------------------------------------------------------------\n",
      "      Percentiles      Smallest\n",
      " 1%            4              2\n",
      " 5%            6              3\n",
      "10%            6              3       Obs                1156\n",
      "25%            8              4       Sum of Wgt.        1156\n",
      "\n",
      "50%            8                      Mean           8.153114\n",
      "                        Largest       Std. Dev.      1.327661\n",
      "75%            9             10\n",
      "90%           10             10       Variance       1.762683\n",
      "95%           10             10       Skewness      -.7129747\n",
      "99%           10             10       Kurtosis       3.896702\n",
      "\n",
      "                          negative\n",
      "-------------------------------------------------------------\n",
      "      Percentiles      Smallest\n",
      " 1%            2              2\n",
      " 5%            4              2\n",
      "10%            4              2       Obs                1136\n",
      "25%            6              2       Sum of Wgt.        1136\n",
      "\n",
      "50%            7                      Mean           6.949824\n",
      "                        Largest       Std. Dev.      1.840355\n",
      "75%            8             10\n",
      "90%            9             10       Variance       3.386907\n",
      "95%           10             10       Skewness       -.339421\n",
      "99%           10             10       Kurtosis       2.616732\n"
     ]
    }
   ],
   "source": [
    "gen positive = comfort2 + makefrnd2\n",
    "gen negative = religcon2 + religint2\n",
    "sum positive negative, d"
   ]
  },
  {
   "cell_type": "markdown",
   "metadata": {},
   "source": [
    "### Now, a new scale \"positive\" indicates repondents' positive attitude toward religion, ranging from 2 to 10. \"Negative\" signifies repondents' negative attitude toward religion, ranging from 2 to 10. "
   ]
  },
  {
   "cell_type": "markdown",
   "metadata": {},
   "source": [
    "## To check, internal consistency of creating scles, we then see cronbach's alpha between items of each scale. "
   ]
  },
  {
   "cell_type": "code",
   "execution_count": 10,
   "metadata": {},
   "outputs": [
    {
     "name": "stdout",
     "output_type": "stream",
     "text": [
      "\n",
      "\n",
      "Test scale = mean(unstandardized items)\n",
      "\n",
      "Average interitem covariance:     .2616756\n",
      "Number of items in the scale:            2\n",
      "Scale reliability coefficient:      0.5937\n",
      "\n",
      "\n",
      "Test scale = mean(unstandardized items)\n",
      "\n",
      "Average interitem covariance:     .5524183\n",
      "Number of items in the scale:            2\n",
      "Scale reliability coefficient:      0.6514\n"
     ]
    }
   ],
   "source": [
    "alpha comfort2 makefrnd2\n",
    "alpha religcon2 religint2"
   ]
  },
  {
   "cell_type": "markdown",
   "metadata": {},
   "source": [
    "### Do you think each scale is reliable? Why or why not?"
   ]
  },
  {
   "cell_type": "markdown",
   "metadata": {},
   "source": [
    "(Your answer here)"
   ]
  },
  {
   "cell_type": "markdown",
   "metadata": {},
   "source": [
    "### Using constructed scales, you may want to see differences in attitudes toward religion "
   ]
  },
  {
   "cell_type": "code",
   "execution_count": 21,
   "metadata": {},
   "outputs": [
    {
     "name": "stdout",
     "output_type": "stream",
     "text": [
      "\n",
      "\n",
      "\n",
      "Summary statistics: mean, sd\n",
      "  by categories of: age2 (RECODE of age (age of respondent))\n",
      "\n",
      "        age2 |  positive  negative\n",
      "-------------+--------------------\n",
      "Less than 30 |  7.928205   6.84456\n",
      "             |  1.364111   1.73406\n",
      "-------------+--------------------\n",
      "       30-39 |  8.122727  6.916667\n",
      "             |  1.458226  1.878272\n",
      "-------------+--------------------\n",
      "       40-49 |  8.153061   6.93299\n",
      "             |  1.271801   1.88274\n",
      "-------------+--------------------\n",
      "       50-59 |  8.111675  6.882051\n",
      "             |  1.236237  1.813874\n",
      "-------------+--------------------\n",
      "  60 or more |  8.322674  7.095808\n",
      "             |  1.292706  1.867161\n",
      "-------------+--------------------\n",
      "       Total |  8.152778  6.954064\n",
      "             |  1.329708   1.84012\n",
      "----------------------------------\n"
     ]
    }
   ],
   "source": [
    "quietly recode age (min/29=1 \"Less than 30\") (30/39=2 \"30-39\") (40/49=3 \"40-49\") (50/59=4 \"50-59\") ///\n",
    "  (60/max=5 \"60 or more\"), gen(age2)\n",
    "\n",
    "tabstat positive negative, statistics(mean sd) by(age2)  "
   ]
  },
  {
   "cell_type": "markdown",
   "metadata": {},
   "source": []
  },
  {
   "cell_type": "markdown",
   "metadata": {},
   "source": []
  }
 ],
 "metadata": {
  "kernelspec": {
   "display_name": "Stata",
   "language": "stata",
   "name": "stata"
  },
  "language_info": {
   "codemirror_mode": "stata",
   "file_extension": ".do",
   "mimetype": "text/x-stata",
   "name": "stata",
   "version": "15.1"
  }
 },
 "nbformat": 4,
 "nbformat_minor": 4
}
