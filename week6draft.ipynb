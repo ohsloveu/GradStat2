{
 "cells": [
  {
   "cell_type": "markdown",
   "metadata": {},
   "source": [
    "# Week 6: From cross tabs to multiple regression"
   ]
  },
  {
   "cell_type": "markdown",
   "metadata": {},
   "source": [
    "For today, we will practice principles of multilple regression. \n",
    "Investigating data from the General Social Survey 2018, we will examine earning differentials among individuals and factors that shape the disparities. "
   ]
  },
  {
   "cell_type": "code",
   "execution_count": 1,
   "metadata": {},
   "outputs": [
    {
     "name": "stdout",
     "output_type": "stream",
     "text": [
      "\n",
      "C:\\Users\\Hyunsu\\Desktop\\UCM\\10. Spring 2020\\(SOC 211) Graduate Statistics 2 (TA)\n",
      "> \\Probelm Sets\\#2\n",
      "\n",
      "\n"
     ]
    }
   ],
   "source": [
    "cd \"C:\\Users\\Hyunsu\\Desktop\\UCM\\10. Spring 2020\\(SOC 211) Graduate Statistics 2 (TA)\\Probelm Sets\\#2\"\n",
    "set more off \n",
    "use \"GSS2018.dta\", clear"
   ]
  },
  {
   "cell_type": "markdown",
   "metadata": {},
   "source": [
    "Our depedent variable is income in constant dollar (realrinc).\n",
    "\n",
    "And three sets of independent variables are\n",
    "(1) Demographic characteristics: age (age), gender (sex), and race (race)\n",
    "(2) Human capital: years of schooling (educ) and job tenure (yearsjob)\n",
    "(3) Family backgrounds: father's education (paeduc) and father's socioeconomic index (PASEI10)"
   ]
  },
  {
   "cell_type": "code",
   "execution_count": 2,
   "metadata": {},
   "outputs": [],
   "source": [
    "keep realrinc age sex race educ yearsjob paeduc PASEI10"
   ]
  },
  {
   "cell_type": "code",
   "execution_count": 4,
   "metadata": {},
   "outputs": [
    {
     "data": {
      "text/html": [
       "<div>\n",
       "<style scoped>\n",
       "    .dataframe tbody tr th:only-of-type {\n",
       "        vertical-align: middle;\n",
       "    }\n",
       "\n",
       "    .dataframe tbody tr th {\n",
       "        vertical-align: top;\n",
       "    }\n",
       "\n",
       "    .dataframe thead th {\n",
       "        text-align: right;\n",
       "    }\n",
       "</style>\n",
       "<table border=\"1\" class=\"dataframe\">\n",
       "  <thead>\n",
       "    <tr style=\"text-align: right;\">\n",
       "      <th></th>\n",
       "      <th>age</th>\n",
       "      <th>educ</th>\n",
       "      <th>paeduc</th>\n",
       "      <th>sex</th>\n",
       "      <th>race</th>\n",
       "      <th>yearsjob</th>\n",
       "      <th>realrinc</th>\n",
       "      <th>PASEI10</th>\n",
       "    </tr>\n",
       "  </thead>\n",
       "  <tbody>\n",
       "    <tr>\n",
       "      <th>1</th>\n",
       "      <td>43</td>\n",
       "      <td>14</td>\n",
       "      <td>12</td>\n",
       "      <td>male</td>\n",
       "      <td>white</td>\n",
       "      <td>1</td>\n",
       "      <td>IAP</td>\n",
       "      <td>58.4</td>\n",
       "    </tr>\n",
       "    <tr>\n",
       "      <th>2</th>\n",
       "      <td>74</td>\n",
       "      <td>10</td>\n",
       "      <td>0</td>\n",
       "      <td>female</td>\n",
       "      <td>white</td>\n",
       "      <td>.i</td>\n",
       "      <td>IAP</td>\n",
       "      <td>24.6</td>\n",
       "    </tr>\n",
       "    <tr>\n",
       "      <th>3</th>\n",
       "      <td>42</td>\n",
       "      <td>16</td>\n",
       "      <td>12</td>\n",
       "      <td>male</td>\n",
       "      <td>white</td>\n",
       "      <td>15</td>\n",
       "      <td>45400</td>\n",
       "      <td>77.40000000000001</td>\n",
       "    </tr>\n",
       "    <tr>\n",
       "      <th>4</th>\n",
       "      <td>63</td>\n",
       "      <td>16</td>\n",
       "      <td>16</td>\n",
       "      <td>female</td>\n",
       "      <td>white</td>\n",
       "      <td>25</td>\n",
       "      <td>54480</td>\n",
       "      <td>67.7</td>\n",
       "    </tr>\n",
       "    <tr>\n",
       "      <th>5</th>\n",
       "      <td>71</td>\n",
       "      <td>18</td>\n",
       "      <td>12</td>\n",
       "      <td>male</td>\n",
       "      <td>black</td>\n",
       "      <td>.i</td>\n",
       "      <td>IAP</td>\n",
       "      <td>58.4</td>\n",
       "    </tr>\n",
       "  </tbody>\n",
       "</table>\n",
       "</div>"
      ],
      "text/plain": [
       "\n",
       "      +----------------------------------------------------------------------+\n",
       "      | age   educ   paeduc      sex    race   yearsjob   realrinc   PASEI10 |\n",
       "      |----------------------------------------------------------------------|\n",
       "   1. |  43     14       12     male   white          1        IAP      58.4 |\n",
       "   2. |  74     10        0   female   white         .i        IAP      24.6 |\n",
       "   3. |  42     16       12     male   white         15      45400      77.4 |\n",
       "   4. |  63     16       16   female   white         25      54480      67.7 |\n",
       "   5. |  71     18       12     male   black         .i        IAP      58.4 |\n",
       "      +----------------------------------------------------------------------+\n",
       "\n"
      ]
     },
     "metadata": {},
     "output_type": "display_data"
    }
   ],
   "source": [
    "%head if _n<=5"
   ]
  },
  {
   "cell_type": "markdown",
   "metadata": {},
   "source": [
    "# First, examine our dependent variable using histogram"
   ]
  },
  {
   "cell_type": "code",
   "execution_count": null,
   "metadata": {},
   "outputs": [
    {
     "name": "stdout",
     "output_type": "stream",
     "text": [
      "(bin=31, start=227, width=4865.2813)\n"
     ]
    }
   ],
   "source": [
    "hist realrinc"
   ]
  },
  {
   "cell_type": "markdown",
   "metadata": {},
   "source": [
    "It looks like the income variable is skewed and not normally distributed. In this case, log transformation would be appropriate. Technically, using logged income will reduce the impact of heteroskedasticity."
   ]
  },
  {
   "cell_type": "code",
   "execution_count": 5,
   "metadata": {},
   "outputs": [
    {
     "name": "stdout",
     "output_type": "stream",
     "text": [
      "(985 missing values generated)\n"
     ]
    }
   ],
   "source": [
    "gen loginc = log(realrinc)"
   ]
  },
  {
   "cell_type": "code",
   "execution_count": null,
   "metadata": {},
   "outputs": [],
   "source": [
    "hist loginc"
   ]
  },
  {
   "cell_type": "markdown",
   "metadata": {},
   "source": [
    "If you use log transformed variables, you need to be careful when interpreting the results. We will discuss this soon."
   ]
  },
  {
   "cell_type": "markdown",
   "metadata": {},
   "source": [
    "# Then, let's take a look at the relationships between our DV and IVs."
   ]
  },
  {
   "cell_type": "markdown",
   "metadata": {},
   "source": [
    "Let's generate scatter plots between our DV and appropriate IVs"
   ]
  },
  {
   "cell_type": "code",
   "execution_count": null,
   "metadata": {},
   "outputs": [],
   "source": [
    "foreach x of var age educ yearsjob paeduc PASEI10 {\n",
    "  graph twoway (scatter loginc `x') (lfit loginc `x') \n",
    "}"
   ]
  },
  {
   "cell_type": "markdown",
   "metadata": {},
   "source": [
    "FYI, we can visualize these plots in one space. For instance,"
   ]
  },
  {
   "cell_type": "code",
   "execution_count": 7,
   "metadata": {},
   "outputs": [],
   "source": [
    "qui {\n",
    "  graph twoway (scatter loginc age) (lfit loginc age), name(age_scatter)\n",
    "  graph twoway (scatter loginc educ) (lfit loginc educ), name(educ_scatter)\n",
    "  graph twoway (scatter loginc yearsjob) (lfit loginc yearsjob), name(yearsjob_scatter)\n",
    "  graph twoway (scatter loginc paeduc) (lfit loginc paeduc), name(paeduc_scatter)\n",
    "  graph twoway (scatter loginc PASEI10) (lfit loginc PASEI10), name(PASEI10_scatter)\n",
    "}\n",
    "\n",
    "graph combine age_scatter educ_scatter yearsjob_scatter paeduc_scatter PASEI10_scatter"
   ]
  },
  {
   "cell_type": "markdown",
   "metadata": {},
   "source": [
    "You may want to run correlation analysis to see the linear relationship among variables"
   ]
  },
  {
   "cell_type": "code",
   "execution_count": 6,
   "metadata": {},
   "outputs": [
    {
     "name": "stdout",
     "output_type": "stream",
     "text": [
      "\n",
      "             |   loginc      age     educ   paeduc yearsjob  PASEI10\n",
      "-------------+------------------------------------------------------\n",
      "      loginc |   1.0000 \n",
      "             |\n",
      "             |\n",
      "         age |   0.1673   1.0000 \n",
      "             |   0.0000\n",
      "             |\n",
      "        educ |   0.3364  -0.0230   1.0000 \n",
      "             |   0.0000   0.2658\n",
      "             |\n",
      "      paeduc |   0.1416  -0.2686   0.4129   1.0000 \n",
      "             |   0.0000   0.0000   0.0000\n",
      "             |\n",
      "    yearsjob |   0.2931   0.4823   0.0907  -0.0363   1.0000 \n",
      "             |   0.0000   0.0000   0.0006   0.2391\n",
      "             |\n",
      "     PASEI10 |   0.1796  -0.1075   0.3427   0.5259   0.0480   1.0000 \n",
      "             |   0.0000   0.0000   0.0000   0.0000   0.1081\n",
      "             |\n"
     ]
    }
   ],
   "source": [
    "pwcorr loginc age educ paeduc yearsjob PASEI10, sig"
   ]
  },
  {
   "cell_type": "markdown",
   "metadata": {},
   "source": [
    "And, for gender and race, we can see the group differences using t-test (gender) and ANOVA (race)"
   ]
  },
  {
   "cell_type": "code",
   "execution_count": 7,
   "metadata": {},
   "outputs": [
    {
     "name": "stdout",
     "output_type": "stream",
     "text": [
      "\n",
      "\n",
      "Two-sample t test with equal variances\n",
      "------------------------------------------------------------------------------\n",
      "   Group |     Obs        Mean    Std. Err.   Std. Dev.   [95% Conf. Interval]\n",
      "---------+--------------------------------------------------------------------\n",
      "    male |     646    9.808501    .0470873    1.196795    9.716038    9.900964\n",
      "  female |     717    9.329179      .04586    1.227988    9.239143    9.419215\n",
      "---------+--------------------------------------------------------------------\n",
      "combined |    1363    9.556356     .033486    1.236265    9.490666    9.622046\n",
      "---------+--------------------------------------------------------------------\n",
      "    diff |            .4793225    .0658176                .3502076    .6084375\n",
      "------------------------------------------------------------------------------\n",
      "    diff = mean(male) - mean(female)                              t =   7.2826\n",
      "Ho: diff = 0                                     degrees of freedom =     1361\n",
      "\n",
      "    Ha: diff < 0                 Ha: diff != 0                 Ha: diff > 0\n",
      " Pr(T < t) = 1.0000         Pr(|T| > |t|) = 0.0000          Pr(T > t) = 0.0000\n",
      "\n",
      "\n",
      "    Race of |          Summary of loginc\n",
      " respondent |        Mean   Std. Dev.       Freq.\n",
      "------------+------------------------------------\n",
      "      white |   9.6561489   1.2277033         966\n",
      "      black |   9.3093388   1.2181301         229\n",
      "      other |   9.3192536   1.2375382         168\n",
      "------------+------------------------------------\n",
      "      Total |   9.5563558   1.2362653        1363\n",
      "\n",
      "                        Analysis of Variance\n",
      "    Source              SS         df      MS            F     Prob > F\n",
      "------------------------------------------------------------------------\n",
      "Between groups       33.037582      2    16.518791     10.97     0.0000\n",
      " Within groups      2048.57786   1360   1.50630725\n",
      "------------------------------------------------------------------------\n",
      "    Total           2081.61544   1362   1.52835201\n",
      "\n",
      "Bartlett's test for equal variances:  chi2(2) =   0.0488  Prob>chi2 = 0.976\n"
     ]
    }
   ],
   "source": [
    "ttest loginc, by(sex)\n",
    "oneway loginc race, tab"
   ]
  },
  {
   "cell_type": "markdown",
   "metadata": {},
   "source": [
    "Based on those results, we can scatch group differences on income and relationships between variables. "
   ]
  },
  {
   "cell_type": "markdown",
   "metadata": {},
   "source": [
    "# Let's run regression analysis"
   ]
  },
  {
   "cell_type": "code",
   "execution_count": 8,
   "metadata": {},
   "outputs": [
    {
     "name": "stdout",
     "output_type": "stream",
     "text": [
      "\n",
      "      Source |       SS       df       MS              Number of obs =     886\n",
      "-------------+------------------------------           F(  8,   877) =   33.18\n",
      "       Model |  261.082962     8  32.6353703           Prob > F      =  0.0000\n",
      "    Residual |  862.614325   877  .983596721           R-squared     =  0.2323\n",
      "-------------+------------------------------           Adj R-squared =  0.2253\n",
      "       Total |  1123.69729   885  1.26971445           Root MSE      =  .99176\n",
      "\n",
      "------------------------------------------------------------------------------\n",
      "      loginc |      Coef.   Std. Err.      t    P>|t|     [95% Conf. Interval]\n",
      "-------------+----------------------------------------------------------------\n",
      "         age |   .0010792    .002864     0.38   0.706    -.0045418    .0067002\n",
      "             |\n",
      "         sex |\n",
      "     female  |  -.4815536   .0672573    -7.16   0.000    -.6135577   -.3495494\n",
      "             |\n",
      "        race |\n",
      "      black  |  -.0780743   .1086333    -0.72   0.473     -.291286    .1351374\n",
      "      other  |  -.0393678   .1083035    -0.36   0.716    -.2519321    .1731964\n",
      "             |\n",
      "        educ |   .1191634   .0131686     9.05   0.000     .0933178    .1450089\n",
      "    yearsjob |   .0279707   .0040181     6.96   0.000     .0200845    .0358568\n",
      "      paeduc |    .007713   .0111821     0.69   0.491    -.0142339    .0296599\n",
      "     PASEI10 |   .0033622    .001938     1.73   0.083    -.0004414    .0071657\n",
      "       _cons |    7.72869   .2316247    33.37   0.000     7.274087    8.183293\n",
      "------------------------------------------------------------------------------\n"
     ]
    }
   ],
   "source": [
    "reg loginc age i.sex i.race educ yearsjob paeduc PASEI10"
   ]
  },
  {
   "cell_type": "markdown",
   "metadata": {},
   "source": [
    "Our regression model can be written as:\n",
    "\n",
    "log(income) = 7.729 + .001(age) - .481(female) - .078(balck) - .039(other) + .119(educ) + .028(yearsjob) + .008(paeduc) + .003(PASEI10)"
   ]
  },
  {
   "cell_type": "markdown",
   "metadata": {},
   "source": [
    "# How would you interpret the coefficient of .119 for educ?"
   ]
  },
  {
   "cell_type": "markdown",
   "metadata": {},
   "source": [
    "In general, you can say that one additional year of education is associated with 12 cents ($.119) increase in annual income holding all other variables"
   ]
  },
  {
   "cell_type": "markdown",
   "metadata": {},
   "source": [
    "However, as noted, our variable is log transformed. So, the interpretation is not corret. \n",
    "For here, .119 is the exponentiated coefficient. That is, one unite increase in IV linked to the expected change in log of DV. "
   ]
  },
  {
   "cell_type": "code",
   "execution_count": 9,
   "metadata": {},
   "outputs": [
    {
     "name": "stdout",
     "output_type": "stream",
     "text": [
      "1.1263699\n"
     ]
    }
   ],
   "source": [
    "di exp(.119)"
   ]
  },
  {
   "cell_type": "markdown",
   "metadata": {},
   "source": [
    "Instead, we should see that one additional year of education yields 1.13 dollar (exp.119=1.126) increase in annual income."
   ]
  },
  {
   "cell_type": "markdown",
   "metadata": {},
   "source": [
    "# Let's do this with a dummy variable. What about the coefficient of -.481 for female? Are you able to interpret the coefficient?"
   ]
  },
  {
   "cell_type": "code",
   "execution_count": 10,
   "metadata": {},
   "outputs": [
    {
     "name": "stdout",
     "output_type": "stream",
     "text": [
      ".61816492\n"
     ]
    }
   ],
   "source": [
    "di exp(-.481)"
   ]
  },
  {
   "cell_type": "markdown",
   "metadata": {},
   "source": [
    "# Based on the regression result, we can compute the adjusted means as a function of IVs using -margins- command."
   ]
  },
  {
   "cell_type": "code",
   "execution_count": 11,
   "metadata": {},
   "outputs": [
    {
     "name": "stdout",
     "output_type": "stream",
     "text": [
      "\n",
      "Predictive margins                                Number of obs   =        886\n",
      "Model VCE    : OLS\n",
      "\n",
      "Expression   : Linear prediction, predict()\n",
      "\n",
      "------------------------------------------------------------------------------\n",
      "             |            Delta-method\n",
      "             |     Margin   Std. Err.      t    P>|t|     [95% Conf. Interval]\n",
      "-------------+----------------------------------------------------------------\n",
      "        race |\n",
      "      white  |   9.769248   .0384574   254.03   0.000     9.693769    9.844727\n",
      "      black  |   9.691174     .10122    95.74   0.000     9.492512    9.889835\n",
      "      other  |    9.72988    .099706    97.59   0.000      9.53419     9.92557\n",
      "------------------------------------------------------------------------------\n"
     ]
    }
   ],
   "source": [
    "margins race"
   ]
  },
  {
   "cell_type": "markdown",
   "metadata": {},
   "source": [
    "The command -marginsplot- enables to visulize the prediction"
   ]
  },
  {
   "cell_type": "code",
   "execution_count": 12,
   "metadata": {},
   "outputs": [],
   "source": [
    "  marginsplot"
   ]
  },
  {
   "cell_type": "code",
   "execution_count": 13,
   "metadata": {},
   "outputs": [
    {
     "name": "stdout",
     "output_type": "stream",
     "text": [
      "\n",
      "Predictive margins                                Number of obs   =        886\n",
      "Model VCE    : OLS\n",
      "\n",
      "Expression   : Linear prediction, predict()\n",
      "\n",
      "1._at        : educ            =           0\n",
      "\n",
      "2._at        : educ            =           1\n",
      "\n",
      "3._at        : educ            =           2\n",
      "\n",
      "4._at        : educ            =           3\n",
      "\n",
      "5._at        : educ            =           4\n",
      "\n",
      "6._at        : educ            =           5\n",
      "\n",
      "7._at        : educ            =           6\n",
      "\n",
      "8._at        : educ            =           7\n",
      "\n",
      "9._at        : educ            =           8\n",
      "\n",
      "10._at       : educ            =           9\n",
      "\n",
      "11._at       : educ            =          10\n",
      "\n",
      "12._at       : educ            =          11\n",
      "\n",
      "13._at       : educ            =          12\n",
      "\n",
      "14._at       : educ            =          13\n",
      "\n",
      "15._at       : educ            =          14\n",
      "\n",
      "16._at       : educ            =          15\n",
      "\n",
      "17._at       : educ            =          16\n",
      "\n",
      "18._at       : educ            =          17\n",
      "\n",
      "19._at       : educ            =          18\n",
      "\n",
      "20._at       : educ            =          19\n",
      "\n",
      "21._at       : educ            =          20\n",
      "\n",
      "------------------------------------------------------------------------------\n",
      "             |            Delta-method\n",
      "             |     Margin   Std. Err.      t    P>|t|     [95% Conf. Interval]\n",
      "-------------+----------------------------------------------------------------\n",
      "         _at |\n",
      "          1  |    8.03207   .1933756    41.54   0.000     7.652537    8.411603\n",
      "          2  |   8.151233   .1804183    45.18   0.000     7.797131    8.505335\n",
      "          3  |   8.270397   .1674939    49.38   0.000     7.941661    8.599132\n",
      "          4  |    8.38956   .1546107    54.26   0.000      8.08611     8.69301\n",
      "          5  |   8.508723   .1417799    60.01   0.000     8.230456    8.786991\n",
      "          6  |   8.627887   .1290173    66.87   0.000     8.374668    8.881105\n",
      "          7  |    8.74705   .1163451    75.18   0.000     8.518703    8.975397\n",
      "          8  |   8.866213   .1037966    85.42   0.000     8.662494    9.069932\n",
      "          9  |   8.985377   .0914227    98.28   0.000     8.805944     9.16481\n",
      "         10  |    9.10454   .0793052   114.80   0.000      8.94889     9.26019\n",
      "         11  |   9.223703   .0675821   136.48   0.000     9.091062    9.356345\n",
      "         12  |   9.342867   .0564994   165.36   0.000     9.231977    9.453757\n",
      "         13  |    9.46203   .0465172   203.41   0.000     9.370732    9.553328\n",
      "         14  |   9.581193   .0385012   248.85   0.000     9.505628    9.656759\n",
      "         15  |   9.700357    .033877   286.34   0.000     9.633867    9.766846\n",
      "         16  |    9.81952   .0340556   288.34   0.000      9.75268     9.88636\n",
      "         17  |   9.938683   .0389711   255.03   0.000     9.862196    10.01517\n",
      "         18  |   10.05785   .0471649   213.25   0.000     9.965278    10.15042\n",
      "         19  |   10.17701   .0572462   177.78   0.000     10.06465    10.28937\n",
      "         20  |   10.29617   .0683853   150.56   0.000     10.16196    10.43039\n",
      "         21  |   10.41534   .0801424   129.96   0.000     10.25804    10.57263\n",
      "------------------------------------------------------------------------------\n"
     ]
    }
   ],
   "source": [
    "margins, at(educ=(0(1)20))"
   ]
  },
  {
   "cell_type": "code",
   "execution_count": null,
   "metadata": {},
   "outputs": [],
   "source": [
    "  marginsplot"
   ]
  },
  {
   "cell_type": "markdown",
   "metadata": {},
   "source": [
    "We can also predict this statistics by manipulating other covariates. "
   ]
  },
  {
   "cell_type": "code",
   "execution_count": 14,
   "metadata": {},
   "outputs": [
    {
     "name": "stdout",
     "output_type": "stream",
     "text": [
      "\n",
      "Predictive margins                                Number of obs   =        279\n",
      "Model VCE    : OLS\n",
      "\n",
      "Expression   : Linear prediction, predict()\n",
      "\n",
      "------------------------------------------------------------------------------\n",
      "             |            Delta-method\n",
      "             |     Margin   Std. Err.      t    P>|t|     [95% Conf. Interval]\n",
      "-------------+----------------------------------------------------------------\n",
      "        race |\n",
      "      white  |   10.16887   .0549759   184.97   0.000     10.06097    10.27677\n",
      "      black  |   10.09079    .109513    92.14   0.000     9.875855    10.30573\n",
      "      other  |    10.1295   .1113244    90.99   0.000     9.911006    10.34799\n",
      "------------------------------------------------------------------------------\n"
     ]
    }
   ],
   "source": [
    "margins race if yearsjob > 10"
   ]
  },
  {
   "cell_type": "code",
   "execution_count": 15,
   "metadata": {},
   "outputs": [
    {
     "name": "stdout",
     "output_type": "stream",
     "text": [
      "\n",
      "Adjusted predictions                              Number of obs   =        886\n",
      "Model VCE    : OLS\n",
      "\n",
      "Expression   : Linear prediction, predict()\n",
      "at           : age             =    45.27314 (mean)\n",
      "               1.sex           =    .5022573 (mean)\n",
      "               2.sex           =    .4977427 (mean)\n",
      "               race            =           1\n",
      "               educ            =          12\n",
      "               yearsjob        =    8.929176 (mean)\n",
      "               paeduc          =    12.35892 (mean)\n",
      "               PASEI10         =    48.36524 (mean)\n",
      "\n",
      "------------------------------------------------------------------------------\n",
      "             |            Delta-method\n",
      "             |     Margin   Std. Err.      t    P>|t|     [95% Conf. Interval]\n",
      "-------------+----------------------------------------------------------------\n",
      "         sex |\n",
      "       male  |   9.715199   .0594978   163.29   0.000     9.598424    9.831973\n",
      "     female  |   9.233645   .0613634   150.47   0.000     9.113209    9.354081\n",
      "------------------------------------------------------------------------------\n"
     ]
    }
   ],
   "source": [
    "margins sex, at(race=(1) educ=(12)) atmeans"
   ]
  },
  {
   "cell_type": "markdown",
   "metadata": {},
   "source": [
    "FYI. In Stata, there is another command -prvalue- which has similar functions. But it does not allow to use factor variables. \n",
    "Depending on your modeling, you can use either one."
   ]
  },
  {
   "cell_type": "markdown",
   "metadata": {},
   "source": [
    "# Lastly, Stata let us report the regression results as preferred styles using -est- commands. \n",
    "For instace, "
   ]
  },
  {
   "cell_type": "code",
   "execution_count": 22,
   "metadata": {},
   "outputs": [
    {
     "name": "stdout",
     "output_type": "stream",
     "text": [
      "\n",
      "\n",
      "\n",
      "\n",
      "----------------------------\n",
      "                      (1)   \n",
      "                    Model   \n",
      "                     b/se   \n",
      "----------------------------\n",
      "age                 0.001   \n",
      "                  (0.003)   \n",
      "female             -0.482***\n",
      "                  (0.067)   \n",
      "black              -0.078   \n",
      "                  (0.109)   \n",
      "other race         -0.039   \n",
      "                  (0.108)   \n",
      "years of s~g        0.119***\n",
      "                  (0.013)   \n",
      "job tenure          0.028***\n",
      "                  (0.004)   \n",
      "father's e~n        0.008   \n",
      "                  (0.011)   \n",
      "father's s~x        0.003   \n",
      "                  (0.002)   \n",
      "Constant            7.729***\n",
      "                  (0.232)   \n",
      "----------------------------\n",
      "R-Sqaured           0.232   \n",
      "N                 886.000   \n",
      "----------------------------\n"
     ]
    }
   ],
   "source": [
    "est clear\n",
    "quietly eststo: reg loginc age i.sex i.race educ yearsjob paeduc PASEI10\n",
    "esttab, stats(r2 N, labels(\"R-Sqaured\" \"N\")) cells(b(star fmt(3)) se(fmt(3) par)) /// \n",
    "  nobase mlabel(Model 1) starlevels(* .05 ** .01 *** .001) ///\n",
    "  coeflabels (_cons \"Constant\" 2.sex \"female\" 2.race \"black\" 3.race \"other race\" educ \"years of schooling\" yearsjob \"job tenure\" paeduc \"father's education\" PASEI10 \"father's socioeconomic index\")"
   ]
  },
  {
   "cell_type": "code",
   "execution_count": 23,
   "metadata": {},
   "outputs": [],
   "source": []
  },
  {
   "cell_type": "code",
   "execution_count": null,
   "metadata": {},
   "outputs": [],
   "source": []
  }
 ],
 "metadata": {
  "kernelspec": {
   "display_name": "Stata",
   "language": "stata",
   "name": "stata"
  },
  "language_info": {
   "codemirror_mode": "stata",
   "file_extension": ".do",
   "mimetype": "text/x-stata",
   "name": "stata",
   "version": "15.1"
  }
 },
 "nbformat": 4,
 "nbformat_minor": 4
}
